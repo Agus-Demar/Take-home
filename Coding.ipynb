{
 "cells": [
  {
   "cell_type": "markdown",
   "metadata": {},
   "source": [
    "# Coding"
   ]
  },
  {
   "cell_type": "markdown",
   "metadata": {},
   "source": [
    "### Código original"
   ]
  },
  {
   "cell_type": "code",
   "execution_count": 52,
   "metadata": {},
   "outputs": [],
   "source": [
    "import random\n",
    "\n",
    "def weighted_random(values, weights):\n",
    "    total_weight = sum(weights)\n",
    "    acum_weights = [w / total_weight for w in weights[:]]\n",
    "    # Este primer loop es innecesario. Sólo se requiere mantener el valor 'rand'. \n",
    "    for i in range(len(weights)):\n",
    "        acum_weights[i] += acum_weights[i]\n",
    "        rand = random.random()\n",
    "    for value, weight in zip(values, acum_weights):\n",
    "        if weight > rand:\n",
    "            return value"
   ]
  },
  {
   "cell_type": "markdown",
   "metadata": {},
   "source": [
    "### Código propuesto"
   ]
  },
  {
   "cell_type": "code",
   "execution_count": 283,
   "metadata": {
    "collapsed": true
   },
   "outputs": [],
   "source": [
    "import random\n",
    "\n",
    "def weighted_random(values, weights):\n",
    "    \"\"\"Devuelve un valor cuya probabilidad de aparición depende de su peso.\"\"\"\n",
    "    total_weight = sum(weights)\n",
    "    acum_weights = [w / total_weight for w in weights[:]]\n",
    "    rand = random.random() # Valores posibles de rand: [0,1)\n",
    "    for value, weight in zip(values, acum_weights):\n",
    "        # Lo siguiente significa: If rand < 0.5 then rand - weight[0] < 0 then return 1,\n",
    "        #                         Elif rand >= 0.5 and rand < 0.8 then rand - weight[1] < 0 then return 2,\n",
    "        #                         Elif rand >= 0.8 and rand <1 then rand - weight[2] < 0 then return 3\n",
    "        rand -= weight\n",
    "        if rand < 0:\n",
    "            return value"
   ]
  },
  {
   "cell_type": "markdown",
   "metadata": {},
   "source": [
    "### Validación"
   ]
  },
  {
   "cell_type": "code",
   "execution_count": 291,
   "metadata": {
    "scrolled": true
   },
   "outputs": [
    {
     "name": "stdout",
     "output_type": "stream",
     "text": [
      "Counter({1: 57, 2: 26, 3: 17})\n",
      "Counter({1: 49, 2: 27, 3: 24})\n",
      "Counter({1: 52, 2: 31, 3: 17})\n",
      "Counter({1: 48, 2: 36, 3: 16})\n",
      "Counter({1: 48, 2: 27, 3: 25})\n"
     ]
    }
   ],
   "source": [
    "# En promedio, la participación de cada uno de los valores condice con su peso.\n",
    "from collections import Counter\n",
    "\n",
    "# Realizo 5 pruebas con 100 iteraciones cada una.\n",
    "for i in range(5):\n",
    "    print(Counter(weighted_random(values, weights) for _ in range(100)))"
   ]
  }
 ],
 "metadata": {
  "kernelspec": {
   "display_name": "Python 3",
   "language": "python",
   "name": "python3"
  },
  "language_info": {
   "codemirror_mode": {
    "name": "ipython",
    "version": 3
   },
   "file_extension": ".py",
   "mimetype": "text/x-python",
   "name": "python",
   "nbconvert_exporter": "python",
   "pygments_lexer": "ipython3",
   "version": "3.6.3"
  }
 },
 "nbformat": 4,
 "nbformat_minor": 2
}
