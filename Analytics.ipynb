{
 "cells": [
  {
   "cell_type": "markdown",
   "metadata": {},
   "source": [
    "Analytics\n",
    "========="
   ]
  },
  {
   "cell_type": "markdown",
   "metadata": {},
   "source": [
    "## 1."
   ]
  },
  {
   "cell_type": "markdown",
   "metadata": {},
   "source": [
    "Implementé varios WITH clauses: \n",
    "1. En \"aggregate\" se cuenta la cantidad de compras por usuario por mes. \n",
    "2. En \"ranked\" se genera un ranking porcentual ordenado por la cantidad de compras y tomando como denominador al total de usuarios.\n",
    "3. En \"lagged\", para cada registro de compra se obtiene el event_date de la compra anterior y se filtra a aquellos usuarios que pertenecen al 5% de los que mas compras realizaron en el mes.\n",
    "4. La query final termina aplicando el promedio de la diferencia de cada compra contra la anterior agrupado por usuario y por mes. Se filtran las primeras compras de cada mes y usuario. El Time delta estará en segundos."
   ]
  },
  {
   "cell_type": "code",
   "execution_count": null,
   "metadata": {
    "collapsed": true
   },
   "outputs": [],
   "source": [
    "spark.sql(\"\"\"WITH aggregate AS (\n",
    "             SELECT DEVICE_ID, \n",
    "                    MONTH(EVENT_DATE) as month, \n",
    "                    sum(case when EVENT_ID = 2 then 1 else 0 end) as purchases\n",
    "             FROM log_table\n",
    "             GROUP BY 1, 2),\n",
    "             \n",
    "             ranked AS (\n",
    "             SELECT DEVICE_ID,\n",
    "                    month,\n",
    "                    purchases,\n",
    "                    percent_rank() OVER(PARTITION BY month ORDER BY purchases DESC) AS rank\n",
    "             FROM aggregate\n",
    "             ORDER BY rank),\n",
    "             \n",
    "             lagged AS (\n",
    "             SELECT a.DEVICE_ID, \n",
    "                    MONTH(EVENT_DATE) AS month, \n",
    "                    EVENT_DATE, \n",
    "                    LAG(EVENT_DATE, 1) OVER (PARTITION BY a.DEVICE_ID, month ORDER BY EVENT_DATE) AS last_event\n",
    "             FROM log_table a\n",
    "             INNER JOIN ranked b\n",
    "             ON a.DEVICE_ID = b.DEVICE_ID AND MONTH(a.EVENT_DATE) = b.month\n",
    "             WHERE EVENT_DATE BETWEEN '2019-05-01' AND '2019-05-31'\n",
    "             AND EVENT_ID = 2\n",
    "             AND rank =< 0.05)\n",
    "             \n",
    "             SELECT DEVICE_ID, month, MEAN(EVENT_DATE - last_event) AS time_delta\n",
    "             FROM lagged\n",
    "             WHERE last_event IS NOT NULL\n",
    "             GROUP BY 1, 2\n",
    "             \"\"\")"
   ]
  },
  {
   "cell_type": "markdown",
   "metadata": {},
   "source": [
    "### 2."
   ]
  },
  {
   "cell_type": "markdown",
   "metadata": {},
   "source": [
    "Si bien se aplica el promedio de predicted_ctr, lo ideal sería calcular SUM(PREDICTED_CLICK)/SUM(PREDICTED_IMPRESSION). Debido a que el promedio de proporciones no sería correcto matemáticamente.\n",
    "Usé LEFT JOIN, ya que no sé si todo Ad tiene aparejado un costo, de esta forma me aseguraba de incluir todos los ads en la cuenta. De otra forma hubiese usado INNER JOIN."
   ]
  },
  {
   "cell_type": "code",
   "execution_count": null,
   "metadata": {
    "collapsed": true
   },
   "outputs": [],
   "source": [
    "spark.sql(\"\"\"SELECT VARIANT, \n",
    "                    SUM(IMPRESSION) AS IMPRESSIONS, \n",
    "                    SUM(CLICK) AS CLICKS, \n",
    "                    SUM(IMPRESSION)/SUM(CLICK) AS CTR,\n",
    "                    MEAN(PREDICTED_CTR) AS MEAN_PREDICTED_CTR\n",
    "                    SUM(COST) AS COST\n",
    "                    FROM IMPRESSIONS A\n",
    "                    LEFT JOIN COSTS B\n",
    "                    ON A.ID = B.ID\n",
    "                    GROUP BY VARIANT\n",
    "                    HAVING VARIANT != 'c'\n",
    "\"\"\")"
   ]
  }
 ],
 "metadata": {
  "kernelspec": {
   "display_name": "Python2 cluster standalone",
   "language": "python",
   "name": "standalone"
  },
  "language_info": {
   "codemirror_mode": {
    "name": "ipython",
    "version": 2
   },
   "file_extension": ".py",
   "mimetype": "text/x-python",
   "name": "python",
   "nbconvert_exporter": "python",
   "pygments_lexer": "ipython2",
   "version": "2.7.14"
  }
 },
 "nbformat": 4,
 "nbformat_minor": 2
}
