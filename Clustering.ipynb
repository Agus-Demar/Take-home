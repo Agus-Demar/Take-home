{
 "cells": [
  {
   "cell_type": "markdown",
   "metadata": {},
   "source": [
    "Clustering\n",
    "========="
   ]
  },
  {
   "cell_type": "markdown",
   "metadata": {},
   "source": [
    "Dado que la mayoría de las variables a analizar revisten de carácter categórico, no es recomendable aplicar una técnica de clustering tradicional (ej: K-means) ni tampoco PCA, ya que utilizan distancias euclideas y las mismas no tienen un significado de valor con variables nominales y binarias.\n",
    "\n",
    "Por eso, se decide aplicar un análisis de correspondencia múltiple que es compatible con variables categóricas y permite encontrar variables latentes que capturan la varianza de los datos en un espacio de variables con menor dimensión. Estas mismas variables al graficarlas nos permitirán encontrar clusters entre los individuos analizados."
   ]
  },
  {
   "cell_type": "code",
   "execution_count": 1,
   "metadata": {
    "collapsed": true
   },
   "outputs": [],
   "source": [
    "import pandas as pd\n",
    "from factor_analyzer import FactorAnalyzer\n",
    "import matplotlib.pyplot as plt\n",
    "\n",
    "%matplotlib inline"
   ]
  },
  {
   "cell_type": "code",
   "execution_count": 77,
   "metadata": {},
   "outputs": [
    {
     "name": "stderr",
     "output_type": "stream",
     "text": [
      "/home/despegar/sparkData/miniconda2/envs/py3/lib/python3.6/site-packages/IPython/core/interactiveshell.py:2698: DtypeWarning: Columns (154) have mixed types. Specify dtype option on import or set low_memory=False.\n",
      "  interactivity=interactivity, compiler=compiler, result=result)\n"
     ]
    }
   ],
   "source": [
    "# Cargamos archivo .txt separado por \"|\"\n",
    "# Se considera el valor 9999 como nulo\n",
    "original_data = pd.read_table('ENFR2013_baseusuario.txt', sep='|', na_values=9999)"
   ]
  },
  {
   "cell_type": "code",
   "execution_count": 78,
   "metadata": {
    "collapsed": true
   },
   "outputs": [],
   "source": [
    "# Columnas a seleccionar\n",
    "selected_cols = [col for col in original_data if col.startswith('BIAF')] + ['NIVEL_ACTIVIDAD_FISICA']\n",
    "# Seleccionamos esas columnas\n",
    "selected_data = original_data[selected_cols]"
   ]
  },
  {
   "cell_type": "code",
   "execution_count": 79,
   "metadata": {},
   "outputs": [
    {
     "data": {
      "text/plain": [
       "(32365, 14)"
      ]
     },
     "execution_count": 79,
     "metadata": {},
     "output_type": "execute_result"
    }
   ],
   "source": [
    "# Dimensiones del dataset\n",
    "selected_data.shape"
   ]
  },
  {
   "cell_type": "markdown",
   "metadata": {},
   "source": [
    "#### Datos faltantes"
   ]
  },
  {
   "cell_type": "code",
   "execution_count": 47,
   "metadata": {
    "scrolled": true
   },
   "outputs": [
    {
     "data": {
      "text/plain": [
       "BIAF01                        0\n",
       "BIAF02                    25925\n",
       "BIAF03                        0\n",
       "BIAF04                    23648\n",
       "BIAF05                        0\n",
       "BIAF06                    12456\n",
       "BIAF07                     1643\n",
       "BIAF08                    24106\n",
       "BIAF09                     8259\n",
       "BIAF10_01                  8259\n",
       "BIAF10_02                  8259\n",
       "BIAF10_03                  8259\n",
       "BIAF10_04                  8259\n",
       "NIVEL_ACTIVIDAD_FISICA      269\n",
       "dtype: int64"
      ]
     },
     "execution_count": 47,
     "metadata": {},
     "output_type": "execute_result"
    }
   ],
   "source": [
    "# Inspección de datos faltantes\n",
    "selected_data.isnull().sum()"
   ]
  },
  {
   "cell_type": "markdown",
   "metadata": {},
   "source": [
    "Dado que son pocos y no es posible inferir su valor, se descartan los casos donde \"NIVEL_ACTIVIDAD_FISICA\" es nulo."
   ]
  },
  {
   "cell_type": "code",
   "execution_count": 80,
   "metadata": {
    "collapsed": true
   },
   "outputs": [],
   "source": [
    "selected_data = selected_data[selected_data['NIVEL_ACTIVIDAD_FISICA'].notnull()]"
   ]
  },
  {
   "cell_type": "markdown",
   "metadata": {},
   "source": [
    "Existen 5 variables con la misma cantidad de nulos. Al mirar con mayor detalle, se verifica que\n",
    "fueron personas que declararon no haber realizado actividad física, por lo que no era posible\n",
    "contestar dichas variables. Se les asigna la categoría \"Sin actividad\" y 0 minutos de actividad física."
   ]
  },
  {
   "cell_type": "code",
   "execution_count": 5,
   "metadata": {},
   "outputs": [
    {
     "data": {
      "text/html": [
       "<div>\n",
       "<style scoped>\n",
       "    .dataframe tbody tr th:only-of-type {\n",
       "        vertical-align: middle;\n",
       "    }\n",
       "\n",
       "    .dataframe tbody tr th {\n",
       "        vertical-align: top;\n",
       "    }\n",
       "\n",
       "    .dataframe thead th {\n",
       "        text-align: right;\n",
       "    }\n",
       "</style>\n",
       "<table border=\"1\" class=\"dataframe\">\n",
       "  <thead>\n",
       "    <tr style=\"text-align: right;\">\n",
       "      <th></th>\n",
       "      <th></th>\n",
       "      <th></th>\n",
       "      <th>BIAF02</th>\n",
       "      <th>BIAF04</th>\n",
       "      <th>BIAF06</th>\n",
       "      <th>BIAF07</th>\n",
       "      <th>BIAF08</th>\n",
       "      <th>BIAF09</th>\n",
       "      <th>BIAF10_01</th>\n",
       "      <th>BIAF10_02</th>\n",
       "      <th>BIAF10_03</th>\n",
       "      <th>BIAF10_04</th>\n",
       "      <th>NIVEL_ACTIVIDAD_FISICA</th>\n",
       "    </tr>\n",
       "    <tr>\n",
       "      <th>BIAF01</th>\n",
       "      <th>BIAF03</th>\n",
       "      <th>BIAF05</th>\n",
       "      <th></th>\n",
       "      <th></th>\n",
       "      <th></th>\n",
       "      <th></th>\n",
       "      <th></th>\n",
       "      <th></th>\n",
       "      <th></th>\n",
       "      <th></th>\n",
       "      <th></th>\n",
       "      <th></th>\n",
       "      <th></th>\n",
       "    </tr>\n",
       "  </thead>\n",
       "  <tbody>\n",
       "    <tr>\n",
       "      <th>8</th>\n",
       "      <th>8</th>\n",
       "      <th>8</th>\n",
       "      <td>0</td>\n",
       "      <td>0</td>\n",
       "      <td>0</td>\n",
       "      <td>7625</td>\n",
       "      <td>8259</td>\n",
       "      <td>0</td>\n",
       "      <td>0</td>\n",
       "      <td>0</td>\n",
       "      <td>0</td>\n",
       "      <td>0</td>\n",
       "      <td>8259</td>\n",
       "    </tr>\n",
       "  </tbody>\n",
       "</table>\n",
       "</div>"
      ],
      "text/plain": [
       "                      BIAF02  BIAF04  BIAF06  BIAF07  BIAF08  BIAF09  \\\n",
       "BIAF01 BIAF03 BIAF05                                                   \n",
       "8      8      8            0       0       0    7625    8259       0   \n",
       "\n",
       "                      BIAF10_01  BIAF10_02  BIAF10_03  BIAF10_04  \\\n",
       "BIAF01 BIAF03 BIAF05                                               \n",
       "8      8      8               0          0          0          0   \n",
       "\n",
       "                      NIVEL_ACTIVIDAD_FISICA  \n",
       "BIAF01 BIAF03 BIAF05                          \n",
       "8      8      8                         8259  "
      ]
     },
     "execution_count": 5,
     "metadata": {},
     "output_type": "execute_result"
    }
   ],
   "source": [
    "selected_data[selected_data['BIAF10_01'].isnull()].groupby(['BIAF01','BIAF03','BIAF05']).agg('count')"
   ]
  },
  {
   "cell_type": "code",
   "execution_count": 81,
   "metadata": {},
   "outputs": [],
   "source": [
    "selected_data.loc[selected_data['BIAF10_01'].isnull(), ['BIAF02','BIAF04','BIAF06']] = 0\n",
    "selected_data.loc[selected_data['BIAF10_01'].isnull(), ['BIAF09','BIAF10_01','BIAF10_02','BIAF10_03','BIAF10_04']] = 3"
   ]
  },
  {
   "cell_type": "markdown",
   "metadata": {},
   "source": [
    "Para los valores nulos en variables numéricas como los minutos de actividad física se utiliza la nomenclatura proporcionada por el diccionario del INDEC: 9999."
   ]
  },
  {
   "cell_type": "code",
   "execution_count": 82,
   "metadata": {
    "collapsed": true
   },
   "outputs": [],
   "source": [
    "selected_data.loc[selected_data['BIAF02'].isnull(), ['BIAF02']] = 9999\n",
    "selected_data.loc[selected_data['BIAF04'].isnull(), ['BIAF04']] = 9999\n",
    "selected_data.loc[selected_data['BIAF06'].isnull(), ['BIAF06']] = 9999\n",
    "selected_data.loc[selected_data['BIAF07'].isnull(), ['BIAF07']] = 9999\n",
    "selected_data.loc[selected_data['BIAF08'].isnull(), ['BIAF08']] = 11"
   ]
  },
  {
   "cell_type": "code",
   "execution_count": 43,
   "metadata": {},
   "outputs": [
    {
     "data": {
      "text/plain": [
       "BIAF01                    0\n",
       "BIAF02                    0\n",
       "BIAF03                    0\n",
       "BIAF04                    0\n",
       "BIAF05                    0\n",
       "BIAF06                    0\n",
       "BIAF07                    0\n",
       "BIAF08                    0\n",
       "BIAF09                    0\n",
       "BIAF10_01                 0\n",
       "BIAF10_02                 0\n",
       "BIAF10_03                 0\n",
       "BIAF10_04                 0\n",
       "NIVEL_ACTIVIDAD_FISICA    0\n",
       "dtype: int64"
      ]
     },
     "execution_count": 43,
     "metadata": {},
     "output_type": "execute_result"
    }
   ],
   "source": [
    "selected_data.isnull().sum()"
   ]
  },
  {
   "cell_type": "markdown",
   "metadata": {},
   "source": [
    "#### Corrección tipos de datos"
   ]
  },
  {
   "cell_type": "markdown",
   "metadata": {},
   "source": [
    "Por default los datos son considerados cuantitativos, sin embargo, sabemos que deben ser nominales o binarios, excepto por \"BIAF02\", \"BIAF04\", \"BIAF06\" y \"BIAF07\" quienes serán discretizados para convertirlos en datos categóricos."
   ]
  },
  {
   "cell_type": "code",
   "execution_count": 53,
   "metadata": {},
   "outputs": [
    {
     "data": {
      "text/plain": [
       "BIAF01                      int64\n",
       "BIAF02                    float64\n",
       "BIAF03                      int64\n",
       "BIAF04                    float64\n",
       "BIAF05                      int64\n",
       "BIAF06                    float64\n",
       "BIAF07                    float64\n",
       "BIAF08                    float64\n",
       "BIAF09                    float64\n",
       "BIAF10_01                 float64\n",
       "BIAF10_02                 float64\n",
       "BIAF10_03                 float64\n",
       "BIAF10_04                 float64\n",
       "NIVEL_ACTIVIDAD_FISICA    float64\n",
       "dtype: object"
      ]
     },
     "execution_count": 53,
     "metadata": {},
     "output_type": "execute_result"
    }
   ],
   "source": [
    "selected_data.dtypes"
   ]
  },
  {
   "cell_type": "markdown",
   "metadata": {},
   "source": [
    "#### Discretización de variables continuas"
   ]
  },
  {
   "cell_type": "markdown",
   "metadata": {},
   "source": [
    "Por simplicidad, se discretiza las variables medidas en minutos en 0 minutos, 0 a 9998 minutos y 9999 (que significa que no contestó). Las variables referidas a cantidad de días en la semana se discretizaron en 1 a 3 días, 4 a 5 días, 6 a 7 días y 8 (significa que no realizó). Podría existir un mejor criterio si es que se posse mayor conocimiento en el área que permita definir otros cortes.\n",
    "\n",
    "Los nulos seguirán considerándose como tales como una categoría propia."
   ]
  },
  {
   "cell_type": "code",
   "execution_count": 83,
   "metadata": {
    "collapsed": true
   },
   "outputs": [],
   "source": [
    "# Variables medidas en minutos a la semana\n",
    "cols_to_discretize = ['BIAF02','BIAF04','BIAF06','BIAF07']"
   ]
  },
  {
   "cell_type": "code",
   "execution_count": 84,
   "metadata": {
    "scrolled": true
   },
   "outputs": [],
   "source": [
    "for col in cols_to_discretize:\n",
    "    selected_data[col + '_d'] = pd.cut(selected_data[col], bins=[-1,1,9998,9999])\n",
    "    selected_data[col + '_d'] = selected_data[col + '_d'].astype(str)"
   ]
  },
  {
   "cell_type": "code",
   "execution_count": null,
   "metadata": {
    "collapsed": true
   },
   "outputs": [],
   "source": []
  },
  {
   "cell_type": "code",
   "execution_count": 85,
   "metadata": {
    "collapsed": true
   },
   "outputs": [],
   "source": [
    "# Variables medidas en días a la semana\n",
    "cols_to_discretize2 = ['BIAF01','BIAF03','BIAF05']"
   ]
  },
  {
   "cell_type": "code",
   "execution_count": 86,
   "metadata": {
    "scrolled": true
   },
   "outputs": [],
   "source": [
    "for col in cols_to_discretize2:\n",
    "    selected_data[col + '_d'] = pd.cut(selected_data[col], bins=[0, 3, 5, 7, 8])\n",
    "    selected_data[col + '_d'] = selected_data[col + '_d'].astype(str)"
   ]
  },
  {
   "cell_type": "code",
   "execution_count": 87,
   "metadata": {},
   "outputs": [
    {
     "data": {
      "text/plain": [
       "(7, 8]    25716\n",
       "(0, 3]     4379\n",
       "(3, 5]     1181\n",
       "(5, 7]      820\n",
       "Name: BIAF01_d, dtype: int64"
      ]
     },
     "execution_count": 87,
     "metadata": {},
     "output_type": "execute_result"
    }
   ],
   "source": [
    "selected_data['BIAF01_d'].value_counts()"
   ]
  },
  {
   "cell_type": "markdown",
   "metadata": {},
   "source": [
    "#### Convertir variables continuas en categóricas"
   ]
  },
  {
   "cell_type": "markdown",
   "metadata": {},
   "source": [
    "Por default, Python las reconoce como variables númericas, sin embargo, sabemos que se trata de una codificación de variables nominales. Por ende, las trataremos como tales."
   ]
  },
  {
   "cell_type": "code",
   "execution_count": 88,
   "metadata": {
    "scrolled": true
   },
   "outputs": [],
   "source": [
    "for col in selected_data.columns.difference(cols_to_discretize):\n",
    "    selected_data[col] = pd.Categorical(selected_data[col])"
   ]
  },
  {
   "cell_type": "code",
   "execution_count": 89,
   "metadata": {},
   "outputs": [],
   "source": [
    "# Eliminamos aquellas columnas originales que ya fueron discretizadas\n",
    "selected_data.drop(['BIAF01','BIAF02', 'BIAF03','BIAF04','BIAF05','BIAF06', 'BIAF07'], axis=1, inplace=True)"
   ]
  },
  {
   "cell_type": "markdown",
   "metadata": {},
   "source": [
    "### Análisis de Correspondencia Múltiple"
   ]
  },
  {
   "cell_type": "code",
   "execution_count": 39,
   "metadata": {
    "collapsed": true
   },
   "outputs": [],
   "source": [
    "import prince"
   ]
  },
  {
   "cell_type": "code",
   "execution_count": 98,
   "metadata": {
    "scrolled": true
   },
   "outputs": [
    {
     "name": "stderr",
     "output_type": "stream",
     "text": [
      "/home/despegar/sparkData/miniconda2/envs/py3/lib/python3.6/site-packages/prince/one_hot.py:35: FutureWarning: SparseDataFrame is deprecated and will be removed in a future version.\n",
      "Use a regular DataFrame whose columns are SparseArrays instead.\n",
      "\n",
      "See http://pandas.pydata.org/pandas-docs/stable/user_guide/sparse.html#migrating for more.\n",
      "\n",
      "  default_fill_value=0\n",
      "/home/despegar/sparkData/miniconda2/envs/py3/lib/python3.6/site-packages/pandas/core/sparse/frame.py:257: FutureWarning: SparseSeries is deprecated and will be removed in a future version.\n",
      "Use a Series with sparse values instead.\n",
      "\n",
      "    >>> series = pd.Series(pd.SparseArray(...))\n",
      "\n",
      "See http://pandas.pydata.org/pandas-docs/stable/user_guide/sparse.html#migrating for more.\n",
      "\n",
      "  sparse_index=BlockIndex(N, blocs, blens),\n",
      "/home/despegar/sparkData/miniconda2/envs/py3/lib/python3.6/site-packages/pandas/core/frame.py:3451: FutureWarning: SparseSeries is deprecated and will be removed in a future version.\n",
      "Use a Series with sparse values instead.\n",
      "\n",
      "    >>> series = pd.Series(pd.SparseArray(...))\n",
      "\n",
      "See http://pandas.pydata.org/pandas-docs/stable/user_guide/sparse.html#migrating for more.\n",
      "\n",
      "  return klass(values, index=self.index, name=items, fastpath=True)\n",
      "/home/despegar/sparkData/miniconda2/envs/py3/lib/python3.6/site-packages/pandas/core/ops/__init__.py:1641: FutureWarning: SparseSeries is deprecated and will be removed in a future version.\n",
      "Use a Series with sparse values instead.\n",
      "\n",
      "    >>> series = pd.Series(pd.SparseArray(...))\n",
      "\n",
      "See http://pandas.pydata.org/pandas-docs/stable/user_guide/sparse.html#migrating for more.\n",
      "\n",
      "  return self._constructor(new_values, index=self.index, name=self.name)\n",
      "/home/despegar/sparkData/miniconda2/envs/py3/lib/python3.6/site-packages/pandas/core/sparse/frame.py:339: FutureWarning: SparseDataFrame is deprecated and will be removed in a future version.\n",
      "Use a regular DataFrame whose columns are SparseArrays instead.\n",
      "\n",
      "See http://pandas.pydata.org/pandas-docs/stable/user_guide/sparse.html#migrating for more.\n",
      "\n",
      "  default_fill_value=self.default_fill_value,\n",
      "/home/despegar/sparkData/miniconda2/envs/py3/lib/python3.6/site-packages/pandas/core/generic.py:6290: FutureWarning: SparseDataFrame is deprecated and will be removed in a future version.\n",
      "Use a regular DataFrame whose columns are SparseArrays instead.\n",
      "\n",
      "See http://pandas.pydata.org/pandas-docs/stable/user_guide/sparse.html#migrating for more.\n",
      "\n",
      "  return self._constructor(new_data).__finalize__(self)\n",
      "/home/despegar/sparkData/miniconda2/envs/py3/lib/python3.6/site-packages/pandas/core/generic.py:5885: FutureWarning: SparseSeries is deprecated and will be removed in a future version.\n",
      "Use a Series with sparse values instead.\n",
      "\n",
      "    >>> series = pd.Series(pd.SparseArray(...))\n",
      "\n",
      "See http://pandas.pydata.org/pandas-docs/stable/user_guide/sparse.html#migrating for more.\n",
      "\n",
      "  return self._constructor(new_data).__finalize__(self)\n"
     ]
    }
   ],
   "source": [
    "mca = prince.MCA(n_components=2, n_iter=3, copy=True, check_input=True, engine='auto', random_state=42)\n",
    "mca = mca.fit(selected_data)"
   ]
  },
  {
   "cell_type": "markdown",
   "metadata": {},
   "source": [
    "Se utilizaron sólo 2 componentes, ya que el de mayor magnitud sólo logró explicar el 21% de la varianza de los datos, mientras que el segundo componente sólo un 6%."
   ]
  },
  {
   "cell_type": "code",
   "execution_count": 99,
   "metadata": {},
   "outputs": [
    {
     "data": {
      "text/plain": [
       "[0.21373011066486133, 0.06393841975344473]"
      ]
     },
     "execution_count": 99,
     "metadata": {},
     "output_type": "execute_result"
    }
   ],
   "source": [
    "mca.explained_inertia_"
   ]
  },
  {
   "cell_type": "markdown",
   "metadata": {},
   "source": [
    "En el siguiente gráfico se recomienda leerlo tomando como clase la variable \"NIVEL_ACTIVIDAD_FISICA\".\n",
    "Las características que se alojan cercanas a NIVEL_ACTIVIDAD_FISICA_1, NIVEL_ACTIVIDAD_FISICA_2 Y NIVEL_ACTIVIDAD_FISICA_3 presentan una correlación alta con estas categorías. \n",
    "Por ende, se puede inferir: \n",
    "\n",
    "Para personas con nivel de actividad intenso (NIVEL_ACTIVIDAD_FISICA_1):\n",
    "- Suelen realizar actividades intensas y moderadas desde 1 a 7 días a la semana. (BIAF01_d y BIAF03_d)\n",
    "- Suelen realizar actividades intensas durante más de 0 minutos a la semana. (BIAF02_d)\n",
    "- Suelen considerar que realizan la cantidad de ejercicio necesitada. (BIAF_09_1.0)\n",
    "\n",
    "Para personas con nivel de actividad moderado (NIVEL_ACTIVIDAD_FISICA_2):\n",
    "- No suelen realizar actividades por falta de instalaciones, razones de salud, no le interesa. (BIAF09)\n",
    "- Los ejercicios físicos fueron parte de su actividad doméstica y laboral. (BIAF10_01 y BIAF10_02)\n",
    "- No realizan ejercicio por falta de seguridad. (BIAF08)\n",
    "\n",
    "Para personas con nivel de actividad bajo (NIVEL_ACTIVIDAD_FISICA_3):\n",
    "- No suelen responder a la cantidad de tiempo que están sentados. (BIAF07_d)\n",
    "- Responden no realizar actividades intensas, ni moderadas ni tampoco caminar. (BIAF01_d, BIAF03_d y BIAF05_d)\n",
    "- No suelen realizar ejercicio por todas las razones disponibles, excepto por falta de seguridad. (BIAF08)"
   ]
  },
  {
   "cell_type": "code",
   "execution_count": 100,
   "metadata": {},
   "outputs": [
    {
     "name": "stderr",
     "output_type": "stream",
     "text": [
      "/home/despegar/sparkData/miniconda2/envs/py3/lib/python3.6/site-packages/prince/one_hot.py:35: FutureWarning: SparseDataFrame is deprecated and will be removed in a future version.\n",
      "Use a regular DataFrame whose columns are SparseArrays instead.\n",
      "\n",
      "See http://pandas.pydata.org/pandas-docs/stable/user_guide/sparse.html#migrating for more.\n",
      "\n",
      "  default_fill_value=0\n",
      "/home/despegar/sparkData/miniconda2/envs/py3/lib/python3.6/site-packages/pandas/core/sparse/frame.py:257: FutureWarning: SparseSeries is deprecated and will be removed in a future version.\n",
      "Use a Series with sparse values instead.\n",
      "\n",
      "    >>> series = pd.Series(pd.SparseArray(...))\n",
      "\n",
      "See http://pandas.pydata.org/pandas-docs/stable/user_guide/sparse.html#migrating for more.\n",
      "\n",
      "  sparse_index=BlockIndex(N, blocs, blens),\n",
      "/home/despegar/sparkData/miniconda2/envs/py3/lib/python3.6/site-packages/pandas/core/frame.py:3451: FutureWarning: SparseSeries is deprecated and will be removed in a future version.\n",
      "Use a Series with sparse values instead.\n",
      "\n",
      "    >>> series = pd.Series(pd.SparseArray(...))\n",
      "\n",
      "See http://pandas.pydata.org/pandas-docs/stable/user_guide/sparse.html#migrating for more.\n",
      "\n",
      "  return klass(values, index=self.index, name=items, fastpath=True)\n"
     ]
    },
    {
     "data": {
      "image/png": "[encoded data removed]",
      "text/plain": [
       "<Figure size 720x720 with 1 Axes>"
      ]
     },
     "metadata": {},
     "output_type": "display_data"
    }
   ],
   "source": [
    "ax = mca.plot_coordinates(\n",
    "     X=selected_data,\n",
    "     ax=None,\n",
    "     figsize=(10, 10),\n",
    "     show_row_points=False,\n",
    "     row_points_size=10,\n",
    "     show_row_labels=False,\n",
    "     show_column_points=True,\n",
    "     column_points_size=30,\n",
    "     show_column_labels=True,\n",
    "     legend_n_cols=1\n",
    " )"
   ]
  }
 ],
 "metadata": {
  "kernelspec": {
   "display_name": "Python 3",
   "language": "python",
   "name": "python3"
  },
  "language_info": {
   "codemirror_mode": {
    "name": "ipython",
    "version": 3
   },
   "file_extension": ".py",
   "mimetype": "text/x-python",
   "name": "python",
   "nbconvert_exporter": "python",
   "pygments_lexer": "ipython3",
   "version": "3.6.3"
  }
 },
 "nbformat": 4,
 "nbformat_minor": 2
}
